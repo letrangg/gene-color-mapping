{
 "cells": [
  {
   "cell_type": "code",
   "execution_count": 117,
   "metadata": {},
   "outputs": [],
   "source": [
    "import imageio\n",
    "import numpy as np \n",
    "from matplotlib import pyplot as py\n",
    "from scipy.stats import norm\n",
    "from statistics import stdev \n",
    "from scipy.optimize import curve_fit\n",
    "import pylab\n",
    "from collections import defaultdict\n",
    "from PIL import Image\n",
    "\n",
    "\n"
   ]
  },
  {
   "cell_type": "code",
   "execution_count": 4,
   "metadata": {},
   "outputs": [],
   "source": [
    "\n",
    "#Eval function 1 based on input_file.txt \n",
    "def evaluate_fit_function(wavelength, dct_to_hypers, fit_func):\n",
    "    values_to_return = []\n",
    "    iter_cone_types = [\"L\", \"M\", \"S\"]\n",
    "    for index in range(3): \n",
    "        cone_type = iter_cone_types[index]\n",
    "        a,b,c,d,e,f,g,h = dct_to_hypers[cone_type]\n",
    "        val = fit_func(wavelength, a,b,c,d,e,f,g,h)\n",
    "        values_to_return.append(val)\n",
    "    return values_to_return\n",
    "\n",
    "#Eval function 2 based on equation estimates for sensitivity spectra \n",
    "def evaluate_fit_function_curve2(wavelength, dct_to_hypers, fit_func):\n",
    "    S_max, M_max, L_max = 444, 532, 564\n",
    "#     M_max -= 20\n",
    "    values_to_return = []\n",
    "    values_to_return.append(L_formula(wavelength, L_max))\n",
    "    values_to_return.append(M_formula(wavelength, M_max))\n",
    "    values_to_return.append(S_formula(wavelength, S_max))\n",
    "    return values_to_return\n",
    "    \n",
    "\n",
    "#Per cone formulas that are used in Eval function 2\n",
    "def L_formula(x, wavelength_max): \n",
    "    result = (abs(x-wavelength_max)/28.5)**3.1 + 1\n",
    "    return 1/result\n",
    "def M_formula(x, wavelength_max): \n",
    "    result = (abs(x-wavelength_max)/41)**2.8 + 1\n",
    "    return 1/result\n",
    "def S_formula(x, wavelength_max): \n",
    "    result = (abs(x-wavelength_max)/52)**3.3 + 1\n",
    "    return 1/result\n",
    "\n",
    "\n",
    "#Error Function Number 1 - Weighted multipliers of raw differences between proposed pixel and actual pixel \n",
    "def wavelength_error_sum(dct_to_hypers, wavelength, fit_func, pixel_rgb): \n",
    "    \n",
    "    multiplier = [1,2,5]\n",
    "    sorted_array = np.argsort(pixel_rgb)\n",
    "    sum_errors = 1\n",
    "    values = eval_function(wavelength, dct_to_hypers, fit_func)\n",
    "#     print([255 * value for value in values])\n",
    "    for index in range(len(values)): \n",
    "        if index == sorted_array[-1]: \n",
    "            sum_errors += multiplier[-1] * (abs(values[index] - pixel_rgb[index]))\n",
    "        elif index == sorted_array[-2]: \n",
    "            sum_errors += multiplier[-2] * (abs(values[index] - pixel_rgb[index]))\n",
    "        else: \n",
    "            sum_errors += multiplier[-3] * (abs(values[index] - pixel_rgb[index]))                          \n",
    "#         print(sum_errors)\n",
    "        \n",
    "    return sum_errors\n",
    "\n",
    "\n",
    "#Error Function Number 2 - Difference of ratios for R-> B and G-> B between proposed pixel and actual pixel \n",
    "def wavelength_error_ratio(dct_to_hypers, wavelength, fit_func, pixel_rgb): \n",
    "\n",
    "    values = eval_function(wavelength, dct_to_hypers, fit_func)\n",
    "    \n",
    "    ratio_red_blue = values[0]/values[2]\n",
    "    ratio_green_blue = values[1]/values[2]\n",
    "\n",
    "    empirical_ratio_red_blue = pixel_rgb[0]/pixel_rgb[2]\n",
    "    empirical_ratio_green_blue = pixel_rgb[1]/pixel_rgb[2]\n",
    "    \n",
    "    return abs(ratio_red_blue/empirical_ratio_red_blue) + abs(ratio_green_blue/empirical_ratio_green_blue)\n",
    "\n",
    "\n",
    "\n",
    "\n",
    "\n",
    "#-----------------------------------------------------------------------------------------------------------------------\n",
    "\n",
    "#Set Error Function and Eval Function up here \n",
    "\n",
    "eval_function = evaluate_fit_function_curve2\n",
    "error_function = wavelength_error_sum\n",
    "\n",
    "\n",
    "#Find wavelength that maps closest to given pixel value \n",
    "def find_closest_wavelength(dct_to_hypers, wavelength_axis, fit_func, pixel_rgb): \n",
    "    minError = None \n",
    "    best_wavelength = None\n",
    "    for wavelength in wavelength_axis: \n",
    "        \n",
    "        sum_errors = error_function(dct_to_hypers, wavelength, fit_func, pixel_rgb)\n",
    "            \n",
    "        if not minError or sum_errors < minError: \n",
    "            best_wavelength = wavelength\n",
    "            minError = sum_errors\n",
    "    return best_wavelength\n",
    "    \n",
    "#Read in  image\n",
    "def read_in_image(image_name): \n",
    "\n",
    "    im = imageio.imread(image_name, pilmode='RGB')\n",
    "    print(im.shape)\n",
    "    return im\n",
    "\n",
    "#Bring rgb values into range [0,1]\n",
    "def normalize_RGB(rgb): \n",
    "    return [x/255 for x in rgb]\n",
    "\n",
    "\n",
    "\n",
    "\n",
    "\n",
    "\n",
    "\n",
    "            \n",
    "#Remap pixel from RGB space to spectral space (Incorporates all previous functions) \n",
    "def remap_pixel(dct_to_hypers, dct_to_hypers_shifted, wavelength_axis, fit_func, pixel_rgb): \n",
    "        best_wavelength = find_closest_wavelength(dct_to_hypers, \n",
    "                                                  wavelength_axis, \n",
    "                                                  fit_func, \n",
    "                                                  normalize_RGB(pixel_rgb))\n",
    "        new_values = eval_function(best_wavelength, dct_to_hypers_shifted, fit_func)\n",
    "        new_values = np.asarray(new_values)\n",
    "#         print(255*new_values)\n",
    "        return 255*new_values\n",
    "\n",
    "def check_int(s):\n",
    "    s = str(s)\n",
    "    if s[0] in ('-', '+'):\n",
    "        return s[1:].isdigit()\n",
    "    return s.isdigit()\n",
    "\n",
    "#Loads input_file.txt into 2D numpy array \n",
    "def clean_data(txt_file): \n",
    "    with open(txt_file) as f: \n",
    "        lines = [line.rstrip('\\n') for line in f]\n",
    "\n",
    "    split_lines = []\n",
    "    for line in lines: \n",
    "        temp_array = line.split(\" \")\n",
    "        # print(temp_array)\n",
    "        to_add = []\n",
    "        \n",
    "        for item in temp_array: \n",
    "            # print(\"{} {} {}\".format(item, check_int(item), to_add))\n",
    "            if check_int(item) and len(to_add) > 0:\n",
    "\n",
    "                split_lines.append(to_add)\n",
    "                to_add = []\n",
    "                to_add.append(item)\n",
    "            else: \n",
    "                to_add.append(item)\n",
    "        if to_add: \n",
    "            split_lines.append(to_add)\n",
    "\n",
    "#     print(split_lines)\n",
    "    for row in split_lines: \n",
    "        for rowIndex in range(len(row)):\n",
    "            if ord(row[rowIndex][0]) in [8722, 8211] : \n",
    "                row[rowIndex] = '-' + row[rowIndex][1:]\n",
    "            \n",
    "            if ord(row[rowIndex][0]) in [8722, 8211] or (row[rowIndex][0] == '-' and len(row[rowIndex]) == 1):\n",
    "                row[rowIndex] = np.nan\n",
    "            else: \n",
    "                try: \n",
    "                    row[rowIndex] = float(row[rowIndex])\n",
    "                except Exception as e: \n",
    "                    print(e)\n",
    "                    exit()\n",
    "\n",
    "    np.asarray(split_lines)\n",
    "\n",
    "    return split_lines\n",
    "\n",
    "\n",
    "\n",
    "\n",
    "\n",
    "\n",
    "\n",
    "\n"
   ]
  },
  {
   "cell_type": "code",
   "execution_count": 3,
   "metadata": {},
   "outputs": [
    {
     "ename": "NameError",
     "evalue": "name 'clean_data' is not defined",
     "output_type": "error",
     "traceback": [
      "\u001b[0;31m---------------------------------------------------------------------------\u001b[0m",
      "\u001b[0;31mNameError\u001b[0m                                 Traceback (most recent call last)",
      "\u001b[0;32m<ipython-input-3-4a0e843c9743>\u001b[0m in \u001b[0;36m<module>\u001b[0;34m\u001b[0m\n\u001b[0;32m----> 1\u001b[0;31m \u001b[0mdata\u001b[0m \u001b[0;34m=\u001b[0m \u001b[0mclean_data\u001b[0m\u001b[0;34m(\u001b[0m\u001b[0;34m\"/Users/rahulbalakrishnan/Desktop/input_file.txt\"\u001b[0m\u001b[0;34m)\u001b[0m\u001b[0;34m\u001b[0m\u001b[0;34m\u001b[0m\u001b[0m\n\u001b[0m",
      "\u001b[0;31mNameError\u001b[0m: name 'clean_data' is not defined"
     ]
    }
   ],
   "source": [
    "data = clean_data(\"/Users/rahulbalakrishnan/Desktop/input_file.txt\")\n"
   ]
  },
  {
   "cell_type": "code",
   "execution_count": 147,
   "metadata": {},
   "outputs": [
    {
     "data": {
      "text/plain": [
       "[<matplotlib.lines.Line2D at 0x133d46748>]"
      ]
     },
     "execution_count": 147,
     "metadata": {},
     "output_type": "execute_result"
    },
    {
     "data": {
      "image/png": "[encoded data removed]",
      "text/plain": [
       "<Figure size 432x288 with 1 Axes>"
      ]
     },
     "metadata": {
      "needs_background": "light"
     },
     "output_type": "display_data"
    }
   ],
   "source": [
    "wavelength_axis = [item[0] for item in data]\n",
    "L = [item[1] for item in data if not np.isnan(item[5])]\n",
    "M = [item[2] for item in data if not np.isnan(item[6])]\n",
    "S = [item[3] for item in data if not np.isnan(item[7])]\n",
    "\n",
    "# print(S)\n",
    "\n",
    "min_value = min(min(M), (min(min(L), min(S))))\n",
    "\n",
    "\n",
    "L = [(x - min_value) for x in L]\n",
    "M = [(x - min_value) for x in M]\n",
    "S = [(x - min_value) for x in S]\n",
    "\n",
    "max_value = max(max(M), (max(max(L), max(S))))\n",
    "\n",
    "L = [x/max_value for x in L]\n",
    "M = [x/max_value for x in M]\n",
    "S = [x/max_value for x in S]\n",
    "\n",
    "curve_to_fit = M\n",
    "\n",
    "smaller_axis = min(len(curve_to_fit), len(wavelength_axis))\n",
    "\n",
    "wa = wavelength_axis[:smaller_axis]\n",
    "cf = curve_to_fit[:smaller_axis]\n",
    "\n",
    "def fit_func(x, a, b, c, d, e, f, g, h):\n",
    "    return a*1. + b*x + c*x**2 + d*x**3 + e*x**4 + f*x**5 + g*x**6 + h*x**7\n",
    "\n",
    "params = curve_fit(fit_func, wa, cf)\n",
    "a, b, c, d, e, f, g, h = params[0]\n",
    "\n",
    "\n",
    "expanded_axis = np.arange(355, 500, 5)\n",
    "curve = [fit_func(x, a, b, c, d, e, f, g, h) for x in expanded_axis]\n",
    "\n",
    "# py.plot(wa, cf)\n",
    "py.plot(expanded_axis, curve)\n",
    "\n"
   ]
  },
  {
   "cell_type": "code",
   "execution_count": 269,
   "metadata": {},
   "outputs": [
    {
     "name": "stdout",
     "output_type": "stream",
     "text": [
      "0.0017468946330550987\n"
     ]
    },
    {
     "data": {
      "image/png": "[encoded data removed]",
      "text/plain": [
       "<Figure size 432x288 with 1 Axes>"
      ]
     },
     "metadata": {
      "needs_background": "light"
     },
     "output_type": "display_data"
    }
   ],
   "source": [
    "#Testing environment for equation estimates of sensitivity spectra (Eval Function 2)\n",
    "\n",
    "expanded_axis = np.arange(340., 800., 5.)\n",
    "S_max, M_max, L_max = 444, 532, 564\n",
    "def L_formula(x, wavelength_max): \n",
    "    result = (abs(x-wavelength_max)/28.5)**3.1 + 1\n",
    "    return 1/result\n",
    "def M_formula(x, wavelength_max): \n",
    "    result = (abs(x-wavelength_max)/41)**2.8 + 1\n",
    "    return 1/result\n",
    "def S_formula(x, wavelength_max): \n",
    "    result = (abs(x-wavelength_max)/52)**3.3 + 1\n",
    "    return 1/result\n",
    "\n",
    "\n",
    "S_data = [S_formula(x, S_max) for x in expanded_axis]\n",
    "M_data = [M_formula(x, M_max) for x in expanded_axis]\n",
    "L_data = [L_formula(x, L_max) for x in expanded_axis]\n",
    "L_data\n",
    "py.plot(expanded_axis, L_data)\n",
    "py.plot(expanded_axis, S_data)\n",
    "py.plot(expanded_axis, M_data)"
   ]
  },
  {
   "cell_type": "code",
   "execution_count": 207,
   "metadata": {},
   "outputs": [
    {
     "data": {
      "image/png": "[encoded data removed]",
      "text/plain": [
       "<Figure size 432x288 with 1 Axes>"
      ]
     },
     "metadata": {
      "needs_background": "light"
     },
     "output_type": "display_data"
    }
   ],
   "source": [
    "\n",
    "coneType_to_hypers = {}\n",
    "iter_list = [S, M, L]\n",
    "name_list = [\"S\", \"M\", \"L\"]\n",
    "curve_list = []\n",
    "for index in range(len(iter_list)):\n",
    "    \n",
    "    curve_to_fit = iter_list[index]\n",
    "\n",
    "    smaller_axis = min(len(curve_to_fit), len(wavelength_axis))\n",
    "\n",
    "    wa = wavelength_axis[:smaller_axis]\n",
    "    cf = curve_to_fit[:smaller_axis]\n",
    "    params = curve_fit(fit_func, wa, cf)\n",
    "    coneType_to_hypers[name_list[index]] = params[0]\n",
    "    a, b, c, d, e, f, g, h = params[0]\n",
    "    \n",
    "    expanded_axis = np.arange(360., 800., 5.)\n",
    "    curve = [fit_func(x, a, b, c, d, e, f, g, h) for x in expanded_axis]\n",
    "    \n",
    "    while len(cf) < len(wavelength_axis): \n",
    "        cf.append(np.nan)\n",
    "#     while len(curve) < len(wavelength_axis): \n",
    "#         curve.append(np.nan)\n",
    "    \n",
    "    curve_list.append(curve)\n",
    "#     py.plot(expanded_axis, curve, label = name_list[index])\n",
    "#     py.plot(wavelength_axis, cf)\n",
    "\n",
    "\n",
    "py.plot(expanded_axis, curve_list[0], label = name_list[0])\n",
    "py.plot(expanded_axis, curve_list[1], label = name_list[1])\n",
    "py.plot(expanded_axis, curve_list[2], label = name_list[2])\n",
    "\n",
    "py.axis([min(expanded_axis), max(expanded_axis), 0, 1.1])\n",
    "pylab.legend(loc='upper right')\n",
    "py.show()\n",
    "# print(curve_list)"
   ]
  },
  {
   "cell_type": "code",
   "execution_count": 358,
   "metadata": {},
   "outputs": [
    {
     "name": "stdout",
     "output_type": "stream",
     "text": [
      "(1024, 1024, 3)\n",
      "Finished row 50 out of 1024\n",
      "Finished row 100 out of 1024\n",
      "Finished row 150 out of 1024\n",
      "Finished row 200 out of 1024\n",
      "Finished row 250 out of 1024\n",
      "Finished row 300 out of 1024\n",
      "Finished row 350 out of 1024\n",
      "Finished row 400 out of 1024\n",
      "Finished row 450 out of 1024\n",
      "Finished row 500 out of 1024\n",
      "Finished row 550 out of 1024\n",
      "Finished row 600 out of 1024\n",
      "Finished row 650 out of 1024\n",
      "Finished row 700 out of 1024\n",
      "Finished row 750 out of 1024\n",
      "Finished row 800 out of 1024\n",
      "Finished row 850 out of 1024\n",
      "Finished row 900 out of 1024\n",
      "Finished row 950 out of 1024\n",
      "Finished row 1000 out of 1024\n",
      "Finished all 1024 rows\n"
     ]
    },
    {
     "data": {
      "text/plain": [
       "Array([[[ 69.97573536, 253.20546149,  47.95870496],\n",
       "        [ 69.97573536, 253.20546149,  47.95870496],\n",
       "        [ 69.97573536, 253.20546149,  47.95870496],\n",
       "        ...,\n",
       "        [ 62.38489538,  42.29333147,   5.97756246],\n",
       "        [ 62.38489538,  42.29333147,   5.97756246],\n",
       "        [ 62.38489538,  42.29333147,   5.97756246]],\n",
       "\n",
       "       [[ 62.38489538,  42.29333147,   5.97756246],\n",
       "        [ 62.38489538,  42.29333147,   5.97756246],\n",
       "        [ 62.38489538,  42.29333147,   5.97756246],\n",
       "        ...,\n",
       "        [ 47.12682991,  36.14772551,   5.41590758],\n",
       "        [ 47.12682991,  36.14772551,   5.41590758],\n",
       "        [ 47.12682991,  36.14772551,   5.41590758]],\n",
       "\n",
       "       [[ 62.38489538,  42.29333147,   5.97756246],\n",
       "        [ 62.38489538,  42.29333147,   5.97756246],\n",
       "        [ 62.38489538,  42.29333147,   5.97756246],\n",
       "        ...,\n",
       "        [ 47.12682991,  36.14772551,   5.41590758],\n",
       "        [ 47.12682991,  36.14772551,   5.41590758],\n",
       "        [ 47.12682991,  36.14772551,   5.41590758]],\n",
       "\n",
       "       ...,\n",
       "\n",
       "       [[  7.25950561,  72.53227031, 215.84215186],\n",
       "        [  7.25950561,  72.53227031, 215.84215186],\n",
       "        [  7.25950561,  72.53227031, 215.84215186],\n",
       "        ...,\n",
       "        [  6.15532615,  60.95405898, 231.49586601],\n",
       "        [  6.15532615,  60.95405898, 231.49586601],\n",
       "        [  6.15532615,  60.95405898, 231.49586601]],\n",
       "\n",
       "       [[  6.15532615,  60.95405898, 231.49586601],\n",
       "        [  6.15532615,  60.95405898, 231.49586601],\n",
       "        [  6.15532615,  60.95405898, 231.49586601],\n",
       "        ...,\n",
       "        [  5.26062071,  51.45672193, 242.8159987 ],\n",
       "        [  5.26062071,  51.45672193, 242.8159987 ],\n",
       "        [  5.26062071,  51.45672193, 242.8159987 ]],\n",
       "\n",
       "       [[  5.26062071,  51.45672193, 242.8159987 ],\n",
       "        [  5.26062071,  51.45672193, 242.8159987 ],\n",
       "        [  5.26062071,  51.45672193, 242.8159987 ],\n",
       "        ...,\n",
       "        [  7.25950561,  72.53227031, 215.84215186],\n",
       "        [  7.25950561,  72.53227031, 215.84215186],\n",
       "        [  7.25950561,  72.53227031, 215.84215186]]])"
      ]
     },
     "execution_count": 358,
     "metadata": {},
     "output_type": "execute_result"
    }
   ],
   "source": [
    "#Main - Repeatedly runs remap_pixel to remap entire input image \n",
    "\n",
    "\n",
    "image_data = read_in_image(\"/Users/rahulbalakrishnan/Desktop/seth.jpg\")\n",
    "image_data = image_data.astype(\"float\")\n",
    "row_count = len(image_data)\n",
    "count = 1\n",
    "cache = {}\n",
    "hash_code = lambda x: x[0]*(256**2) + x[1]*256 + x[2]\n",
    "\n",
    "\n",
    "for row in image_data: \n",
    "    for index in range(len(row)): \n",
    "        hashed_value = hash_code(row[index])\n",
    "        remapped_pixel = None\n",
    "        if hashed_value in cache: \n",
    "            remapped_pixel = cache[hashed_value]\n",
    "        else:  \n",
    "            remapped_value = remap_pixel(coneType_to_hypers, \n",
    "                                         coneType_to_hypers, \n",
    "                                         np.arange(360., 800., 5.),\n",
    "                                         fit_func, \n",
    "                                         row[index])\n",
    "            cache[hashed_value] = remapped_value\n",
    "            \n",
    "        for subindex in range(len(remapped_value)): \n",
    "            if remapped_value[subindex] < 0: \n",
    "                remapped_value[subindex] = 0\n",
    "                \n",
    "        row[index] = remapped_value\n",
    "        \n",
    "    if count % 50 == 0: \n",
    "        print(\"Finished row {} out of {}\".format(count, row_count))\n",
    "    count += 1\n",
    "print(\"Finished all {} rows\".format(row_count))    \n",
    "    \n",
    "image_data"
   ]
  },
  {
   "cell_type": "code",
   "execution_count": 308,
   "metadata": {},
   "outputs": [
    {
     "name": "stdout",
     "output_type": "stream",
     "text": [
      "(1024, 1024, 3)\n"
     ]
    },
    {
     "data": {
      "text/plain": [
       "Array([195., 160., 138.])"
      ]
     },
     "execution_count": 308,
     "metadata": {},
     "output_type": "execute_result"
    }
   ],
   "source": [
    "imgd = read_in_image(\"/Users/rahulbalakrishnan/Desktop/switzerland-hero.jpg\")\n",
    "imgd = imgd.astype(\"float\")\n",
    "imgd\n",
    "imgd[800][650]"
   ]
  },
  {
   "cell_type": "code",
   "execution_count": 343,
   "metadata": {},
   "outputs": [
    {
     "name": "stdout",
     "output_type": "stream",
     "text": [
      "4.692673815692413\n",
      "365.0\n",
      "[0.6152697563967666, 4.901176343397374, 51.25427906695148]\n"
     ]
    }
   ],
   "source": [
    "#Testing model \n",
    "\n",
    "array_to_test = imgd[300][657]\n",
    "print(wavelength_error_sum(coneType_to_hypers, 495, fit_func, normalize_RGB(array_to_test)))\n",
    "wavelength = find_closest_wavelength(coneType_to_hypers, np.arange(360., 800., 5.), fit_func, normalize_RGB(array_to_test))\n",
    "print(wavelength)\n",
    "values = evaluate_fit_function_curve2(wavelength, coneType_to_hypers, fit_func)\n",
    "print([255 * value for value in values])"
   ]
  },
  {
   "cell_type": "code",
   "execution_count": 359,
   "metadata": {},
   "outputs": [],
   "source": [
    "#Output image into disk\n",
    "\n",
    "image_data = image_data.astype(\"uint8\")\n",
    "img = Image.fromarray(image_data)\n",
    "img.save(\"/Users/rahulbalakrishnan/Desktop/test6.jpg\")"
   ]
  },
  {
   "cell_type": "code",
   "execution_count": null,
   "metadata": {},
   "outputs": [],
   "source": []
  }
 ],
 "metadata": {
  "kernelspec": {
   "display_name": "Python 3",
   "language": "python",
   "name": "python3"
  },
  "language_info": {
   "codemirror_mode": {
    "name": "ipython",
    "version": 3
   },
   "file_extension": ".py",
   "mimetype": "text/x-python",
   "name": "python",
   "nbconvert_exporter": "python",
   "pygments_lexer": "ipython3",
   "version": "3.6.8"
  }
 },
 "nbformat": 4,
 "nbformat_minor": 2
}
